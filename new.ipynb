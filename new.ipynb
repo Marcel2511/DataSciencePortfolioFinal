{
 "cells": [
  {
   "cell_type": "code",
   "id": "initial_id",
   "metadata": {
    "collapsed": true,
    "ExecuteTime": {
     "end_time": "2024-07-03T16:50:24.136858Z",
     "start_time": "2024-07-03T16:50:23.602669Z"
    }
   },
   "source": [
    "import pandas as pd\n",
    "\n",
    "# Vorhandenen Datensatz laden\n",
    "df = pd.read_csv('Ad_table_with_predictions.csv')  # Datei laden, z.B. CSV-Datei\n",
    "\n",
    "# ID-Spalte hinzufügen\n",
    "df['ID'] = range(1, len(df) + 1)\n",
    "\n",
    "# DataFrame speichern (optional)\n",
    "df.to_csv('pred_mit_id.csv', index=False)\n",
    "\n",
    "# DataFrame anzeigen\n",
    "print(df)\n"
   ],
   "outputs": [
    {
     "name": "stdout",
     "output_type": "stream",
     "text": [
      "         Maker  Genmodel   Color  Reg_year   Bodytype       Mileage  \\\n",
      "0      Bentley    Arnage    Grey    2002.0     Saloon   70810.96000   \n",
      "1      Bentley    Arnage    Blue    2002.0     Saloon   88513.70000   \n",
      "2      Bentley    Arnage    Blue    2002.0     Saloon   88513.70000   \n",
      "3      Bentley    Arnage  Silver    2002.0     Saloon   83685.68000   \n",
      "4      Bentley    Arnage    Blue    2002.0     Saloon   93341.72000   \n",
      "...        ...       ...     ...       ...        ...           ...   \n",
      "36840  Hyundai       i30    Blue    2010.0  Hatchback   99779.08000   \n",
      "36841  Hyundai       i30  Silver    2012.0  Hatchback   62764.26000   \n",
      "36842  Hyundai       i30     Red    2014.0  Hatchback   88513.70000   \n",
      "36843  Hyundai       i30   Black    2010.0  Hatchback   77248.32000   \n",
      "36844  Hyundai       i30    Grey    2011.0     Estate  270567.06882   \n",
      "\n",
      "      Engin_size    Gearbox Fuel_type         Price  ...  Seat_num  Door_num  \\\n",
      "0           6.8L  Automatic    Petrol  33823.529412  ...       5.0       4.0   \n",
      "1           6.8L  Automatic    Petrol  35292.941176  ...       5.0       4.0   \n",
      "2           6.8L  Automatic    Petrol  29352.941176  ...       5.0       4.0   \n",
      "3           6.8L  Automatic    Petrol  31752.941176  ...       5.0       4.0   \n",
      "4           6.8L  Automatic    Petrol  30529.411765  ...       5.0       4.0   \n",
      "...          ...        ...       ...           ...  ...       ...       ...   \n",
      "36840       1.4L     Manual    Petrol   4294.117647  ...       5.0       5.0   \n",
      "36841       1.4L     Manual    Petrol   6341.176471  ...       5.0       5.0   \n",
      "36842       1.6L  Automatic    Diesel   8582.352941  ...       5.0       5.0   \n",
      "36843       1.4L     Manual    Petrol   5288.235294  ...       5.0       5.0   \n",
      "36844       1.6L     Manual    Diesel   2347.058824  ...       5.0       5.0   \n",
      "\n",
      "       New_car  Category  Gradient Boosting_Prediction  Knn_Prediction  \\\n",
      "0           No    Luxury                  12061.251233    13500.941176   \n",
      "1           No    Luxury                  13713.938261    10115.058824   \n",
      "2           No    Luxury                  13179.947090    10810.117647   \n",
      "3           No    Luxury                  15539.902147    19049.176471   \n",
      "4           No    Luxury                   1067.562575      780.000000   \n",
      "...        ...       ...                           ...             ...   \n",
      "36840       No     Small                  13792.879636    12851.764706   \n",
      "36841       No     Small                   2095.564660     2072.000000   \n",
      "36842       No     Small                   8263.345946     6101.411765   \n",
      "36843       No     Small                   4931.444355     4431.529412   \n",
      "36844       No     Small                  11519.267785    13734.352941   \n",
      "\n",
      "       Random Forest_Prediction  Decision Tree_Prediction  \\\n",
      "0                  15694.376471              16000.000000   \n",
      "1                  10636.300980              10467.647059   \n",
      "2                  13642.600000              14705.882353   \n",
      "3                  18353.811765              17716.470588   \n",
      "4                    579.058824                700.000000   \n",
      "...                         ...                       ...   \n",
      "36840              13868.435294              12000.000000   \n",
      "36841               2968.176471               2576.470588   \n",
      "36842               6878.411765               7052.941176   \n",
      "36843               4721.917647               4200.000000   \n",
      "36844              13278.411765              13988.235294   \n",
      "\n",
      "       Linear Regression_Prediction     ID  \n",
      "0                      19036.054688      1  \n",
      "1                      12683.625000      2  \n",
      "2                      12728.304688      3  \n",
      "3                      17618.386719      4  \n",
      "4                      -6651.945312      5  \n",
      "...                             ...    ...  \n",
      "36840                  16549.386719  36841  \n",
      "36841                   6738.554688  36842  \n",
      "36842                   5364.054688  36843  \n",
      "36843                   6441.054688  36844  \n",
      "36844                  16446.761719  36845  \n",
      "\n",
      "[36845 rows x 28 columns]\n"
     ]
    }
   ],
   "execution_count": 2
  }
 ],
 "metadata": {
  "kernelspec": {
   "display_name": "Python 3",
   "language": "python",
   "name": "python3"
  },
  "language_info": {
   "codemirror_mode": {
    "name": "ipython",
    "version": 2
   },
   "file_extension": ".py",
   "mimetype": "text/x-python",
   "name": "python",
   "nbconvert_exporter": "python",
   "pygments_lexer": "ipython2",
   "version": "2.7.6"
  }
 },
 "nbformat": 4,
 "nbformat_minor": 5
}
